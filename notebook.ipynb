{
 "cells": [
  {
   "cell_type": "code",
   "execution_count": null,
   "id": "74670c4d",
   "metadata": {},
   "outputs": [],
   "source": [
    "from src import func1 as f1\n",
    "from src import linear_program as lp\n",
    "import pandas as pd\n",
    "import numpy as np\n",
    "import importlib\n",
    "from matplotlib import pyplot as plt\n",
    "import geopandas as gpd\n"
   ]
  },
  {
   "cell_type": "markdown",
   "id": "c82f56c5",
   "metadata": {},
   "source": [
    "# Download the neccessary data"
   ]
  },
  {
   "cell_type": "code",
   "execution_count": null,
   "id": "3470a8aa",
   "metadata": {},
   "outputs": [],
   "source": [
    "zip_geo_data = f1.load_zip_geo_data('data/zip_shapes/zip_geo_data.shp')\n",
    "provider_data = f1.load_provider_data()\n",
    "year_rates_data = f1.load_rates_data()\n",
    "states_geo_data = f1.load_states_geo_data('data/state_shapes/states_geo_data.shp')\n",
    "\n",
    "svi_zips = pd.read_csv('data/ZipData.csv')\n",
    "svi_zips['ZIP'] = svi_zips['GEO_ID'].str[-5:]\n",
    "DIST_THRESH = 16"
   ]
  },
  {
   "cell_type": "markdown",
   "id": "3c4979b4",
   "metadata": {},
   "source": [
    "# Pennsylvania\n",
    "\n",
    "First we will create a scatter plot of the distances from the nearest OTP provider with the total number of opioid claims to get an idea for the access to on OTP. We also show it in a map where the red dots indicate an OTP provider."
   ]
  },
  {
   "cell_type": "code",
   "execution_count": null,
   "id": "109c40ef",
   "metadata": {},
   "outputs": [],
   "source": [
    "state = 'Pennsylvania'\n",
    "f1.distance_scatter_plot(zip_geo_data, provider_data, year_rates_data, state)\n",
    "f1.plot_rates(states_geo_data, zip_geo_data, year_rates_data, provider_data, 'Tot_Opioid_Clms', state)"
   ]
  },
  {
   "cell_type": "markdown",
   "id": "3d1464fb",
   "metadata": {},
   "source": [
    "Next we show the distance from every zip code to it's nearest OTP provider."
   ]
  },
  {
   "cell_type": "code",
   "execution_count": null,
   "id": "2f9ad2c0",
   "metadata": {},
   "outputs": [],
   "source": [
    "f1.plot_dist_to_providers(zip_geo_data, states_geo_data, provider_data, state)"
   ]
  },
  {
   "cell_type": "markdown",
   "id": "b8fb15dd",
   "metadata": {},
   "source": [
    "We can see from this map that those in the north part of the state can travel 70 miles to reach the nearest OTP provider. Even those in some of the more central areas would need to travel 30-40 miles to reach a provider.\n",
    "\n",
    "Next we use a linear programming technique to assign each person in a zip code to optimally assign each person to their nearest OTP provider (within 16 miles) without exceeding the OTP providers capacity. After the assignments there are people who were not assigned to an OTP provider as there is not an OTP provider sufficiently close enough or the ones that are close are over capacity. We show those on a map of the state along with a table with the 5 zip codes that have the highest number of these people that were not assigned."
   ]
  },
  {
   "cell_type": "code",
   "execution_count": null,
   "id": "3e5ae1cc",
   "metadata": {},
   "outputs": [],
   "source": [
    "penn_lp = lp.run_model(provider_data, zip_geo_data, year_rates_data, state, DIST_THRESH, True)\n",
    "top_unassigned = penn_lp[1].sort_values('picked', ascending=False).reset_index(level=[1])[:5]\n",
    "top_unassigned['City'] = ['Philidelphia', 'Allentown', 'Pittsburg', 'Philidelphia', 'Lancaster']\n",
    "top_unassigned['Undersupply'] = top_unassigned['picked']\n",
    "top_unassigned[['Undersupply', 'City']]"
   ]
  },
  {
   "cell_type": "markdown",
   "id": "33166b52",
   "metadata": {},
   "source": [
    "While there are people who are unassigned because of no OTP provider near them, it is more common that there are OTP providers in the area but they are over capacity. We can see this in Philidelphia. There are multiple OTP providers in the area but still two of its zip codes are in the top 5 for the most people who are not assigned to an OTP provider."
   ]
  },
  {
   "cell_type": "markdown",
   "id": "1e1481cc",
   "metadata": {},
   "source": [
    "# SVI \n",
    "\n",
    "Next we look into how these number of unassigned people relates to the social vulnerability index of the zip code."
   ]
  },
  {
   "cell_type": "code",
   "execution_count": null,
   "id": "0263e377",
   "metadata": {},
   "outputs": [],
   "source": [
    "svi_unassigned = penn_lp[2].join(svi_zips.set_index(['ZIP']), on='RATES ZIP', how='left')\n",
    "\n",
    "plt.figure(figsize=(12,9))\n",
    "plt.scatter(svi_unassigned['picked'], svi_unassigned['RPL_THEMES'])\n",
    "plt.xlabel('Undersupply')\n",
    "plt.ylabel('SVI Score')\n",
    "plt.title('Scatter plot of SVI and Undersupply')\n",
    "plt.show()"
   ]
  },
  {
   "cell_type": "markdown",
   "id": "87fd16df",
   "metadata": {},
   "source": [
    "It seems there is not much correlation between the two. When we look at those with SVI score of over than 2 we see that there are two zip codes that have especially high SVI score and a high number of people that are unassigned. The two outliers are the zip codes 19104 and 19140. Zip code 19104 is located in Philidelphia and has an SVI of 2.33 and an undersupply of 590. Zip code 19140 is also located in Philidelphia with an SVI of 2.83 and an undersupply of 331. These are good candidates for a new OTP provider as they have high numbers of undersupply but are also located in more vulnerable areas."
   ]
  },
  {
   "cell_type": "code",
   "execution_count": null,
   "id": "5af8d346",
   "metadata": {},
   "outputs": [],
   "source": [
    "over_2 = svi_zips[svi_zips['RPL_THEMES'] >= 2]\n",
    "\n",
    "over_2_unassigned = penn_lp[2].join(over_2.set_index(['ZIP']), on='RATES ZIP', how='right')\n",
    "\n",
    "plt.figure(figsize=(12,9))\n",
    "plt.scatter(over_2_unassigned['picked'], over_2_unassigned['RPL_THEMES'])\n",
    "plt.xlabel('Undersupply')\n",
    "plt.ylabel('SVI INDEX')\n",
    "plt.title('Scatter plot of zip codes with SVI over 2')\n",
    "\n",
    "plt.show()"
   ]
  },
  {
   "cell_type": "code",
   "execution_count": null,
   "id": "9651ad0b",
   "metadata": {},
   "outputs": [],
   "source": []
  },
  {
   "cell_type": "code",
   "execution_count": null,
   "id": "d1cf7ab6",
   "metadata": {},
   "outputs": [],
   "source": []
  }
 ],
 "metadata": {
  "kernelspec": {
   "display_name": "Python 3 (ipykernel)",
   "language": "python",
   "name": "python3"
  },
  "language_info": {
   "codemirror_mode": {
    "name": "ipython",
    "version": 3
   },
   "file_extension": ".py",
   "mimetype": "text/x-python",
   "name": "python",
   "nbconvert_exporter": "python",
   "pygments_lexer": "ipython3",
   "version": "3.9.12"
  }
 },
 "nbformat": 4,
 "nbformat_minor": 5
}
